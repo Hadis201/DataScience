file = open('files/ch03/adult.data', 'r')
def chr_int(a):
    if a.isdigit():return int(a)
    else: return 0
data = []
for line in file:
    data1 = line.split(', ')
    if len(data1)==15:
        data.append([chr_int(data1[0]), data1[1],
                   chr_int(data1[2]), data1[3],
                   chr_int(data1[4]), data1[5],
                   data1[6], data1[7], data1[8],
                   data1[9], chr_int(data1[10]),
                   chr_int(data1[11]),
                   chr_int(data1[12]),
                   data1[13], data1[14]] )
print(data[0:2])


%matplotlib inline
import pandas as pd

df = pd.DataFrame(data)
df.columns = [
    'age', 'type_employer', 'fnlwgt', 
    'education', 'education_num', 'marital',
    'occupation', 'relationship', 'race', 
    'sex', 'capital_gain', 'capital_loss', 
    'hr_per_week', 'country', 'income'
    ]


df.shape


counts = df.groupby('country').size()
print(counts.head())


sx = df.groupby('sex').size()
sx


ml = df[(df.sex == 'Male')]
ml


ml1 = df[(df.sex == 'Male') & (df.income=='>50K\n')]


ml1


fm = df[(df.sex=='Female')]
fm.head()


fm1 = df[(df.sex=='Female') & (df.income == '>50K\n')]
fm1.head()


df1 = df[df.income=='>50K\n']
print('The rate of people with hight income is: ',
     int(len(df1)/float(len(df))*100), '%')


print('The rate of men with high income: ',
     int((float(len(ml1))/len(ml))*100), '%')


print(f'The rate of women with high income: {int(float(len(fm1))/len(fm)*100)}%')


print('The average age of men is: ', ml['age'].mean())
print('The average age of women is: ', fm['age'].mean())
print('The average age of high-income men is: ', ml1['age'].mean())
print('The average age of high-income women is: ', fm1['age'].mean())


ml_mu = ml['age'].mean()
fm_mu = fm['age'].mean()
ml_var = ml['age'].var()
fm_var = fm['age'].var()
ml_std = ml['age'].std()
fm_std = fm['age'].std()
print('Statistics of age for men: mu: ', ml_mu, 'var: ', ml_var, 'std: ',ml_std)
print('Statistics of age for men: mu: ', fm_mu, 'var: ', fm_var, 'std: ',fm_std)


df



df['hr_per_week'].max()


ml_median = ml['age'].median()
fm_median = fm['age'].median()
print('Median age per men and women are: \n', ml_median, fm_median)



ml1


ml_median_hi = ml1['age'].median()
fm_median_hi = fm1['age'].median()
print('The median age of high-income male and female are: ', ml_median_hi, fm_median_hi)


import matplotlib.pyplot as plt
ml_age = ml['age']
ml_age.hist(histtype = 'stepfilled', bins = 20)
plt.show()


fm_age = fm['age']
fm_age.hist(histtype = 'stepfilled', bins = 10)
plt.show()


import seaborn as sns
fm_age.hist(histtype = 'stepfilled',
           alpha = .5, bins = 20)
ml_age.hist(histtype = 'stepfilled',
           alpha = 0.5,
           color = sns.desaturate('indianred', 0.75),
           bins = 20)
plt.show()


fm_age.hist(density = True,
            histtype = 'stepfilled',
            alpha = .5, bins = 20)
ml_age.hist(
           density = True,
           histtype = 'stepfilled',
           alpha = 0.5,
           color = sns.desaturate('indianred', 0.75),
           bins = 10)
plt.show()


ml_age.hist(density = True, histtype = 'step', cumulative = True, linewidth = 3.5, bins = 20)
fm_age.hist(density = True, histtype = 'step', cumulative = True, linewidth = 3.5, bins = 20,
           color = sns.desaturate('indianred', .75))
plt.show()


df['age'].min()


df2 = df.drop(df.index[
              (df.income == '>50K\n') &
              ((df['age'] > df['age'].median()+35) |
              (df['age'] < df['age'].median()-15))
            ])
df2


ml1_age = ml1['age']
ml1


ml1_age


fm1_age = fm1['age']
ml2_age = ml1_age.drop(ml1_age.index[
                       (ml1_age > df['age'].median()+35)|
                       (ml1_age < df['age'].median() - 15)
                    ])
fm2_age = fm1_age.drop(fm1_age.index[
                       (fm1_age > df['age'].median()+35)|
                       (fm1_age < df['age'].median() - 15)
                    ])


mu2ml = ml2_age.mean()
std2ml = ml2_age.std()
md2ml = ml2_age.median()
mu2fm = fm2_age.mean()
std2fm = fm2_age.std()
md2fm = fm2_age.median()

print('Men statistics:')
print('Mean: ', mu2ml, 'Std: ', std2ml, 'Median: ', md2ml)
print('Min: ', ml2_age.min(), 'Max: ', ml2_age.max())

print('Women statistics:')
print('Mean: ', mu2fm, 'Std: ', std2fm, 'Median: ', md2fm)
print('Min: ', fm2_age.min(), 'Max: ', fm2_age.max())



import matplotlib.pyplot as plt
plt.figure(figsize=(13.4, 5))
df.age[(df.income == '>50K\n')].plot(alpha=0.25, color='b')
df2.age[(df2.income == '>50K\n')].plot(alpha=0.25, color='r')
plt.ylabel('Age')
plt.xlabel('Samples')
plt.show()


import numpy as np
countx, divisionx = np.histogram(ml2_age, density=True)
countx


divisionx


county, divisiony = np.histogram(fm2_age, density=True)





val = [(divisionx[i]+divisionx[i+1])/2 for i in range(len(divisionx)-1)]
plt.plot(val, countx-county, 'o-')
plt.xlabel('Age', fontsize=15)
plt.ylabel('Differences', fontsize=15)
plt.title('Differences in promoting men vs women')
plt.show()


def skewness(x):
    res=0
    m=x.mean()
    s=x.std()
    for i in x:
        res+=(i-m)*(i-m)*(i-m)
    res/=(len(x)*s*s*s)
    return res

print("The skewness of the male population is:", skewness(ml2_age))
print("The skewness of the female population is:", skewness(fm2_age))


print('The mean difference with outliers is: %4.2f.' % (ml_age.mean()-fm_age.mean()))
print('The mean difference without outliers is: %4.2f.' % (ml2_age.mean()-fm2_age.mean()))


#pearson's skewness coffs
def g_p(x):
    3*(x.mean()-x.median())/x.std()
print(g_p(ml2_age))
print(g_p(fm2_age))


l = 3
x = np.arange(.2, 5.0, 0.1)
y = 1 - np.exp(-l*x)
plt.plot(x, y, '-')
plt.title('Exponential CDF: $\lambda$ = %.2f' %l, fontsize=15)
plt.xlabel('x', fontsize=15)
plt.xlabel('CDF', fontsize=15)
plt.show()


from __future__ import division
import scipy.stats as stats

l = 3
x = np.arange(0.2, 5.0, 0.1)
y = l*np.exp(-l*x)
plt.plot(x,y,'-')
plt.title('Exponential PDF: $\lambda$ = %0.2f' %l, fontsize = 20)
plt.xlabel('x')
plt.ylabel('PDF')
plt.show()


l = 0.25
x = np.arange(0, 25, .1)
y = 0.25*np.exp(-x*l)
plt.plot(x, y, '-')
plt.title('Exponential: $\lambda$ = %0.2f' %l, fontsize=20)
plt.xlabel('x')
plt.ylabel('PDF')
plt.show()


u, s = 6, 2
x = np.arange(0,25,0.1)
y = 1/np.sqrt(2*np.pi*s*s)*np.exp(-(x-u)**2/(2*s*s))
plt.plot(x, y, '-')
plt.title('Gaussian or Normal Distribution\n $\mu$ = %0.2f $\sigma$ = %0.2f' %(u,s), fontsize = 15)
plt.xlabel('x', fontsize=15)
plt.ylabel('Probability Density', fontsize=15)
plt.show()














from scipy.stats.distributions import norm
y = np.random.normal(15)*10
x = np.linspace(0, 10, 100)

x1 = np.random.normal(-1, 2, 15)
x2 = np.random.normal(6, 3, 10)
y = np.r_[x1, x2] #concatenates x1 and x2
x = np.linspace(min(y), max(y), 100)

'''This is the bandwidth (standard deviation) of the Gaussian kernels.
Smaller s → sharper peaks, larger s → smoother curves.'''
s = 0.4

#calculates the kernel
kernels = np.transpose([norm.pdf(x, yi, s) for yi in y])
# print(kernels)
plt.plot(x, kernels, 'k:')
plt.plot(x, kernels.sum(1), 'r')
plt.plot(y, np.zeros(len(y)), 'go', ms=5)
plt.show()


from scipy.stats import kde

x1 = np.random.normal(-1, 0.5, 15) # parameters: (loc=0.0, scale=1.0, size=None)
x2 = np.random.normal(6, 1, 10)
y = np.r_[x1, x2] # r_ Translates slice objects to concatenation along the first axis.
x = np.linspace(min(y), max(y), 100)

s = 0.4 # Smoothing parameter

kernels = np.transpose([norm.pdf(x, yi, s) for yi in y]) # Calculate the kernels
density = kde.gaussian_kde(y)

plt.plot(x, kernels, 'k:')
plt.plot(x, kernels.sum(1), 'r')
plt.plot(y, np.zeros(len(y)), 'bo', ms=5)
plt.show()


xgrid = np.linspace(x.min(), x.max(), 200)
plt.hist(y, bins=20, density=True)
plt.plot(xgrid, density(xgrid), 'r-')
plt.show()


x1 = np.random.normal(-1, 2, 15)
x2 = np.random.normal(6, 3, 10)
x = np.r_[x1, x2]
plt.hist(x, bins=18, density = True)
plt.show()


density = kde.gaussian_kde(x)
xgrid = np.linspace(x.min(), x.max(), 200)
plt.hist(x, bins=18, density=True)
plt.plot(xgrid, density(xgrid), 'r-')
plt.show()



